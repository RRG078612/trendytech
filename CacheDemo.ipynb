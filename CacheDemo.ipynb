{
 "cells": [
  {
   "cell_type": "code",
   "execution_count": 11,
   "id": "81a7e6a7",
   "metadata": {},
   "outputs": [],
   "source": [
    "# bioler plate code\n",
    "from pyspark.sql import SparkSession\n",
    "import getpass\n",
    "username = getpass.getuser()\n",
    "spark = SparkSession. \\\n",
    "builder. \\\n",
    "appName(\"cachedemo\"). \\\n",
    "config('spark.ui.port', '0'). \\\n",
    "config(\"spark.sql.warehouse.dir\", f\"/user/{username}/warehouse\"). \\\n",
    "enableHiveSupport(). \\\n",
    "master('yarn'). \\\n",
    "getOrCreate()"
   ]
  },
  {
   "cell_type": "code",
   "execution_count": 12,
   "id": "4e64ff97",
   "metadata": {},
   "outputs": [
    {
     "data": {
      "text/html": [
       "\n",
       "            <div>\n",
       "                <p><b>SparkSession - hive</b></p>\n",
       "                \n",
       "        <div>\n",
       "            <p><b>SparkContext</b></p>\n",
       "\n",
       "            <p><a href=\"http://g01.itversity.com:44177\">Spark UI</a></p>\n",
       "\n",
       "            <dl>\n",
       "              <dt>Version</dt>\n",
       "                <dd><code>v2.4.7</code></dd>\n",
       "              <dt>Master</dt>\n",
       "                <dd><code>yarn</code></dd>\n",
       "              <dt>AppName</dt>\n",
       "                <dd><code>cachedemo</code></dd>\n",
       "            </dl>\n",
       "        </div>\n",
       "        \n",
       "            </div>\n",
       "        "
      ],
      "text/plain": [
       "<pyspark.sql.session.SparkSession at 0x7fada5b6f9b0>"
      ]
     },
     "execution_count": 12,
     "metadata": {},
     "output_type": "execute_result"
    }
   ],
   "source": [
    "spark"
   ]
  },
  {
   "cell_type": "code",
   "execution_count": 13,
   "id": "70f86f4b",
   "metadata": {},
   "outputs": [],
   "source": [
    "orders_schema = 'order_id long, order_date date, cust_id long, order_status string'"
   ]
  },
  {
   "cell_type": "code",
   "execution_count": 14,
   "id": "3f5997b1",
   "metadata": {},
   "outputs": [],
   "source": [
    "df = spark.read.csv(\"/public/trendytech/orders/orders_1gb.csv\" , schema=orders_schema)"
   ]
  },
  {
   "cell_type": "code",
   "execution_count": 15,
   "id": "eccbcc27",
   "metadata": {},
   "outputs": [
    {
     "name": "stdout",
     "output_type": "stream",
     "text": [
      "+--------+----------+-------+---------------+\n",
      "|order_id|order_date|cust_id|   order_status|\n",
      "+--------+----------+-------+---------------+\n",
      "|       1|2013-07-25|  11599|         CLOSED|\n",
      "|       2|2013-07-25|    256|PENDING_PAYMENT|\n",
      "|       3|2013-07-25|  12111|       COMPLETE|\n",
      "|       4|2013-07-25|   8827|         CLOSED|\n",
      "|       5|2013-07-25|  11318|       COMPLETE|\n",
      "|       6|2013-07-25|   7130|       COMPLETE|\n",
      "|       7|2013-07-25|   4530|       COMPLETE|\n",
      "|       8|2013-07-25|   2911|     PROCESSING|\n",
      "|       9|2013-07-25|   5657|PENDING_PAYMENT|\n",
      "|      10|2013-07-25|   5648|PENDING_PAYMENT|\n",
      "|      11|2013-07-25|    918| PAYMENT_REVIEW|\n",
      "|      12|2013-07-25|   1837|         CLOSED|\n",
      "|      13|2013-07-25|   9149|PENDING_PAYMENT|\n",
      "|      14|2013-07-25|   9842|     PROCESSING|\n",
      "|      15|2013-07-25|   2568|       COMPLETE|\n",
      "|      16|2013-07-25|   7276|PENDING_PAYMENT|\n",
      "|      17|2013-07-25|   2667|       COMPLETE|\n",
      "|      18|2013-07-25|   1205|         CLOSED|\n",
      "|      19|2013-07-25|   9488|PENDING_PAYMENT|\n",
      "|      20|2013-07-25|   9198|     PROCESSING|\n",
      "+--------+----------+-------+---------------+\n",
      "only showing top 20 rows\n",
      "\n"
     ]
    }
   ],
   "source": [
    "df.show()"
   ]
  },
  {
   "cell_type": "code",
   "execution_count": 16,
   "id": "b6857946",
   "metadata": {},
   "outputs": [
    {
     "data": {
      "text/plain": [
       "25831125"
      ]
     },
     "execution_count": 16,
     "metadata": {},
     "output_type": "execute_result"
    }
   ],
   "source": [
    "df.count()"
   ]
  },
  {
   "cell_type": "code",
   "execution_count": 17,
   "id": "3c46970b",
   "metadata": {},
   "outputs": [],
   "source": [
    "cached_df = df.cache()"
   ]
  },
  {
   "cell_type": "code",
   "execution_count": 19,
   "id": "3f03ad0a",
   "metadata": {},
   "outputs": [
    {
     "data": {
      "text/plain": [
       "25831125"
      ]
     },
     "execution_count": 19,
     "metadata": {},
     "output_type": "execute_result"
    }
   ],
   "source": [
    "cached_df.count()"
   ]
  },
  {
   "cell_type": "code",
   "execution_count": 10,
   "id": "c9cd055b",
   "metadata": {},
   "outputs": [],
   "source": [
    "# spark.stop()"
   ]
  },
  {
   "cell_type": "code",
   "execution_count": 20,
   "id": "3ad0f3c1",
   "metadata": {},
   "outputs": [
    {
     "name": "stdout",
     "output_type": "stream",
     "text": [
      "+--------+----------+-------+---------------+\n",
      "|order_id|order_date|cust_id|   order_status|\n",
      "+--------+----------+-------+---------------+\n",
      "|       1|2013-07-25|  11599|         CLOSED|\n",
      "|       2|2013-07-25|    256|PENDING_PAYMENT|\n",
      "|       3|2013-07-25|  12111|       COMPLETE|\n",
      "|       4|2013-07-25|   8827|         CLOSED|\n",
      "|       5|2013-07-25|  11318|       COMPLETE|\n",
      "|       6|2013-07-25|   7130|       COMPLETE|\n",
      "|       7|2013-07-25|   4530|       COMPLETE|\n",
      "|       8|2013-07-25|   2911|     PROCESSING|\n",
      "|       9|2013-07-25|   5657|PENDING_PAYMENT|\n",
      "|      10|2013-07-25|   5648|PENDING_PAYMENT|\n",
      "|      11|2013-07-25|    918| PAYMENT_REVIEW|\n",
      "|      12|2013-07-25|   1837|         CLOSED|\n",
      "|      13|2013-07-25|   9149|PENDING_PAYMENT|\n",
      "|      14|2013-07-25|   9842|     PROCESSING|\n",
      "|      15|2013-07-25|   2568|       COMPLETE|\n",
      "|      16|2013-07-25|   7276|PENDING_PAYMENT|\n",
      "|      17|2013-07-25|   2667|       COMPLETE|\n",
      "|      18|2013-07-25|   1205|         CLOSED|\n",
      "|      19|2013-07-25|   9488|PENDING_PAYMENT|\n",
      "|      20|2013-07-25|   9198|     PROCESSING|\n",
      "+--------+----------+-------+---------------+\n",
      "only showing top 20 rows\n",
      "\n"
     ]
    }
   ],
   "source": [
    "cached_df.show()"
   ]
  },
  {
   "cell_type": "code",
   "execution_count": 21,
   "id": "9a7fd1b2",
   "metadata": {},
   "outputs": [
    {
     "data": {
      "text/html": [
       "<table border='1'>\n",
       "<tr><th>order_id</th><th>order_date</th><th>cust_id</th><th>order_status</th></tr>\n",
       "<tr><td>11</td><td>2013-07-25</td><td>918</td><td>PAYMENT_REVIEW</td></tr>\n",
       "<tr><td>12</td><td>2013-07-25</td><td>1837</td><td>CLOSED</td></tr>\n",
       "<tr><td>13</td><td>2013-07-25</td><td>9149</td><td>PENDING_PAYMENT</td></tr>\n",
       "<tr><td>14</td><td>2013-07-25</td><td>9842</td><td>PROCESSING</td></tr>\n",
       "<tr><td>15</td><td>2013-07-25</td><td>2568</td><td>COMPLETE</td></tr>\n",
       "<tr><td>16</td><td>2013-07-25</td><td>7276</td><td>PENDING_PAYMENT</td></tr>\n",
       "<tr><td>17</td><td>2013-07-25</td><td>2667</td><td>COMPLETE</td></tr>\n",
       "<tr><td>18</td><td>2013-07-25</td><td>1205</td><td>CLOSED</td></tr>\n",
       "<tr><td>19</td><td>2013-07-25</td><td>9488</td><td>PENDING_PAYMENT</td></tr>\n",
       "<tr><td>20</td><td>2013-07-25</td><td>9198</td><td>PROCESSING</td></tr>\n",
       "<tr><td>21</td><td>2013-07-25</td><td>2711</td><td>PENDING</td></tr>\n",
       "<tr><td>22</td><td>2013-07-25</td><td>333</td><td>COMPLETE</td></tr>\n",
       "<tr><td>23</td><td>2013-07-25</td><td>4367</td><td>PENDING_PAYMENT</td></tr>\n",
       "<tr><td>24</td><td>2013-07-25</td><td>11441</td><td>CLOSED</td></tr>\n",
       "<tr><td>25</td><td>2013-07-25</td><td>9503</td><td>CLOSED</td></tr>\n",
       "<tr><td>26</td><td>2013-07-25</td><td>7562</td><td>COMPLETE</td></tr>\n",
       "<tr><td>27</td><td>2013-07-25</td><td>3241</td><td>PENDING_PAYMENT</td></tr>\n",
       "<tr><td>28</td><td>2013-07-25</td><td>656</td><td>COMPLETE</td></tr>\n",
       "<tr><td>29</td><td>2013-07-25</td><td>196</td><td>PROCESSING</td></tr>\n",
       "<tr><td>30</td><td>2013-07-25</td><td>10039</td><td>PENDING_PAYMENT</td></tr>\n",
       "</table>\n",
       "only showing top 20 rows\n"
      ],
      "text/plain": [
       "+--------+----------+-------+---------------+\n",
       "|order_id|order_date|cust_id|   order_status|\n",
       "+--------+----------+-------+---------------+\n",
       "|      11|2013-07-25|    918| PAYMENT_REVIEW|\n",
       "|      12|2013-07-25|   1837|         CLOSED|\n",
       "|      13|2013-07-25|   9149|PENDING_PAYMENT|\n",
       "|      14|2013-07-25|   9842|     PROCESSING|\n",
       "|      15|2013-07-25|   2568|       COMPLETE|\n",
       "|      16|2013-07-25|   7276|PENDING_PAYMENT|\n",
       "|      17|2013-07-25|   2667|       COMPLETE|\n",
       "|      18|2013-07-25|   1205|         CLOSED|\n",
       "|      19|2013-07-25|   9488|PENDING_PAYMENT|\n",
       "|      20|2013-07-25|   9198|     PROCESSING|\n",
       "|      21|2013-07-25|   2711|        PENDING|\n",
       "|      22|2013-07-25|    333|       COMPLETE|\n",
       "|      23|2013-07-25|   4367|PENDING_PAYMENT|\n",
       "|      24|2013-07-25|  11441|         CLOSED|\n",
       "|      25|2013-07-25|   9503|         CLOSED|\n",
       "|      26|2013-07-25|   7562|       COMPLETE|\n",
       "|      27|2013-07-25|   3241|PENDING_PAYMENT|\n",
       "|      28|2013-07-25|    656|       COMPLETE|\n",
       "|      29|2013-07-25|    196|     PROCESSING|\n",
       "|      30|2013-07-25|  10039|PENDING_PAYMENT|\n",
       "+--------+----------+-------+---------------+\n",
       "only showing top 20 rows"
      ]
     },
     "execution_count": 21,
     "metadata": {},
     "output_type": "execute_result"
    }
   ],
   "source": [
    "cached_df.filter(\"order_id >10\")"
   ]
  },
  {
   "cell_type": "code",
   "execution_count": null,
   "id": "46c88f01",
   "metadata": {},
   "outputs": [],
   "source": []
  }
 ],
 "metadata": {
  "kernelspec": {
   "display_name": "Pyspark 2",
   "language": "python",
   "name": "pyspark2"
  },
  "language_info": {
   "codemirror_mode": {
    "name": "ipython",
    "version": 3
   },
   "file_extension": ".py",
   "mimetype": "text/x-python",
   "name": "python",
   "nbconvert_exporter": "python",
   "pygments_lexer": "ipython3",
   "version": "3.6.12"
  }
 },
 "nbformat": 4,
 "nbformat_minor": 5
}
